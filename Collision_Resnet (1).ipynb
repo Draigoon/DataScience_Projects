{
 "cells": [
  {
   "cell_type": "markdown",
   "id": "cd4bcba0",
   "metadata": {},
   "source": [
    "# Implementing Resnet8 architecture on Dronet Dataset\n",
    "\n",
    "\n",
    "## Objective\n",
    "\n",
    "The objective is to implement the ResNet 8 architecture on Dronet dataset. This dataset contains Collision (**approx. 4.8K**) and non-collision images (**approx. 24.9K**). \n",
    "\n",
    "#### Model Used: ResNet8\n",
    "Resnet architecture employs the power of skip connections to tackle the problem of vanishing gradients without an exponential increase in the number of parameters for deep networks.\n",
    "\n",
    "Let's install the required tensorflow library (the implementation is done in tensorflow)."
   ]
  },
  {
   "cell_type": "code",
   "execution_count": 1,
   "id": "0b76850d",
   "metadata": {},
   "outputs": [
    {
     "name": "stdout",
     "output_type": "stream",
     "text": [
      "Looking in indexes: https://pypi.org/simple, https://pypi.ngc.nvidia.com\n",
      "Requirement already satisfied: tensorflow in c:\\users\\risha\\anaconda3\\lib\\site-packages (2.10.0)\n",
      "Requirement already satisfied: gast<=0.4.0,>=0.2.1 in c:\\users\\risha\\anaconda3\\lib\\site-packages (from tensorflow) (0.4.0)\n",
      "Requirement already satisfied: absl-py>=1.0.0 in c:\\users\\risha\\anaconda3\\lib\\site-packages (from tensorflow) (1.3.0)\n",
      "Requirement already satisfied: setuptools in c:\\users\\risha\\anaconda3\\lib\\site-packages (from tensorflow) (61.2.0)\n",
      "Requirement already satisfied: grpcio<2.0,>=1.24.3 in c:\\users\\risha\\anaconda3\\lib\\site-packages (from tensorflow) (1.42.0)\n",
      "Requirement already satisfied: numpy>=1.20 in c:\\users\\risha\\anaconda3\\lib\\site-packages (from tensorflow) (1.21.5)\n",
      "Requirement already satisfied: wrapt>=1.11.0 in c:\\users\\risha\\anaconda3\\lib\\site-packages (from tensorflow) (1.12.1)\n",
      "Requirement already satisfied: tensorflow-estimator<2.11,>=2.10.0 in c:\\users\\risha\\anaconda3\\lib\\site-packages (from tensorflow) (2.10.0)\n",
      "Requirement already satisfied: keras-preprocessing>=1.1.1 in c:\\users\\risha\\anaconda3\\lib\\site-packages (from tensorflow) (1.1.2)\n",
      "Requirement already satisfied: flatbuffers>=2.0 in c:\\users\\risha\\anaconda3\\lib\\site-packages (from tensorflow) (22.10.26)\n",
      "Requirement already satisfied: h5py>=2.9.0 in c:\\users\\risha\\anaconda3\\lib\\site-packages (from tensorflow) (3.6.0)\n",
      "Requirement already satisfied: keras<2.11,>=2.10.0 in c:\\users\\risha\\anaconda3\\lib\\site-packages (from tensorflow) (2.10.0)\n",
      "Requirement already satisfied: termcolor>=1.1.0 in c:\\users\\risha\\anaconda3\\lib\\site-packages (from tensorflow) (2.1.0)\n",
      "Requirement already satisfied: typing-extensions>=3.6.6 in c:\\users\\risha\\anaconda3\\lib\\site-packages (from tensorflow) (4.1.1)\n",
      "Requirement already satisfied: six>=1.12.0 in c:\\users\\risha\\anaconda3\\lib\\site-packages (from tensorflow) (1.16.0)\n",
      "Requirement already satisfied: packaging in c:\\users\\risha\\anaconda3\\lib\\site-packages (from tensorflow) (21.3)\n",
      "Requirement already satisfied: libclang>=13.0.0 in c:\\users\\risha\\anaconda3\\lib\\site-packages (from tensorflow) (14.0.6)\n",
      "Requirement already satisfied: opt-einsum>=2.3.2 in c:\\users\\risha\\anaconda3\\lib\\site-packages (from tensorflow) (3.3.0)\n",
      "Requirement already satisfied: tensorboard<2.11,>=2.10 in c:\\users\\risha\\anaconda3\\lib\\site-packages (from tensorflow) (2.10.1)\n",
      "Requirement already satisfied: protobuf<3.20,>=3.9.2 in c:\\users\\risha\\anaconda3\\lib\\site-packages (from tensorflow) (3.19.1)\n",
      "Requirement already satisfied: google-pasta>=0.1.1 in c:\\users\\risha\\anaconda3\\lib\\site-packages (from tensorflow) (0.2.0)\n",
      "Requirement already satisfied: astunparse>=1.6.0 in c:\\users\\risha\\anaconda3\\lib\\site-packages (from tensorflow) (1.6.3)\n",
      "Requirement already satisfied: tensorflow-io-gcs-filesystem>=0.23.1 in c:\\users\\risha\\anaconda3\\lib\\site-packages (from tensorflow) (0.27.0)\n",
      "Requirement already satisfied: wheel<1.0,>=0.23.0 in c:\\users\\risha\\anaconda3\\lib\\site-packages (from astunparse>=1.6.0->tensorflow) (0.37.1)\n",
      "Requirement already satisfied: werkzeug>=1.0.1 in c:\\users\\risha\\anaconda3\\lib\\site-packages (from tensorboard<2.11,>=2.10->tensorflow) (2.0.3)\n",
      "Requirement already satisfied: requests<3,>=2.21.0 in c:\\users\\risha\\anaconda3\\lib\\site-packages (from tensorboard<2.11,>=2.10->tensorflow) (2.27.1)\n",
      "Requirement already satisfied: markdown>=2.6.8 in c:\\users\\risha\\anaconda3\\lib\\site-packages (from tensorboard<2.11,>=2.10->tensorflow) (3.3.4)\n",
      "Requirement already satisfied: tensorboard-data-server<0.7.0,>=0.6.0 in c:\\users\\risha\\anaconda3\\lib\\site-packages (from tensorboard<2.11,>=2.10->tensorflow) (0.6.1)\n",
      "Requirement already satisfied: google-auth-oauthlib<0.5,>=0.4.1 in c:\\users\\risha\\anaconda3\\lib\\site-packages (from tensorboard<2.11,>=2.10->tensorflow) (0.4.6)\n",
      "Requirement already satisfied: tensorboard-plugin-wit>=1.6.0 in c:\\users\\risha\\anaconda3\\lib\\site-packages (from tensorboard<2.11,>=2.10->tensorflow) (1.8.1)\n",
      "Requirement already satisfied: google-auth<3,>=1.6.3 in c:\\users\\risha\\anaconda3\\lib\\site-packages (from tensorboard<2.11,>=2.10->tensorflow) (1.33.0)\n",
      "Requirement already satisfied: cachetools<5.0,>=2.0.0 in c:\\users\\risha\\anaconda3\\lib\\site-packages (from google-auth<3,>=1.6.3->tensorboard<2.11,>=2.10->tensorflow) (4.2.2)\n",
      "Requirement already satisfied: rsa<5,>=3.1.4 in c:\\users\\risha\\anaconda3\\lib\\site-packages (from google-auth<3,>=1.6.3->tensorboard<2.11,>=2.10->tensorflow) (4.7.2)\n",
      "Requirement already satisfied: pyasn1-modules>=0.2.1 in c:\\users\\risha\\anaconda3\\lib\\site-packages (from google-auth<3,>=1.6.3->tensorboard<2.11,>=2.10->tensorflow) (0.2.8)\n",
      "Requirement already satisfied: requests-oauthlib>=0.7.0 in c:\\users\\risha\\anaconda3\\lib\\site-packages (from google-auth-oauthlib<0.5,>=0.4.1->tensorboard<2.11,>=2.10->tensorflow) (1.3.1)\n",
      "Requirement already satisfied: pyasn1<0.5.0,>=0.4.6 in c:\\users\\risha\\anaconda3\\lib\\site-packages (from pyasn1-modules>=0.2.1->google-auth<3,>=1.6.3->tensorboard<2.11,>=2.10->tensorflow) (0.4.8)\n",
      "Requirement already satisfied: idna<4,>=2.5 in c:\\users\\risha\\anaconda3\\lib\\site-packages (from requests<3,>=2.21.0->tensorboard<2.11,>=2.10->tensorflow) (3.3)\n",
      "Requirement already satisfied: certifi>=2017.4.17 in c:\\users\\risha\\anaconda3\\lib\\site-packages (from requests<3,>=2.21.0->tensorboard<2.11,>=2.10->tensorflow) (2021.10.8)\n",
      "Requirement already satisfied: charset-normalizer~=2.0.0 in c:\\users\\risha\\anaconda3\\lib\\site-packages (from requests<3,>=2.21.0->tensorboard<2.11,>=2.10->tensorflow) (2.0.4)\n",
      "Requirement already satisfied: urllib3<1.27,>=1.21.1 in c:\\users\\risha\\anaconda3\\lib\\site-packages (from requests<3,>=2.21.0->tensorboard<2.11,>=2.10->tensorflow) (1.26.9)\n",
      "Requirement already satisfied: oauthlib>=3.0.0 in c:\\users\\risha\\anaconda3\\lib\\site-packages (from requests-oauthlib>=0.7.0->google-auth-oauthlib<0.5,>=0.4.1->tensorboard<2.11,>=2.10->tensorflow) (3.2.2)\n",
      "Requirement already satisfied: pyparsing!=3.0.5,>=2.0.2 in c:\\users\\risha\\anaconda3\\lib\\site-packages (from packaging->tensorflow) (3.0.4)\n"
     ]
    }
   ],
   "source": [
    "!pip install tensorflow"
   ]
  },
  {
   "cell_type": "markdown",
   "id": "757d57d5",
   "metadata": {},
   "source": [
    "Now, let's import the required libraries. We are using the following libraries:\n",
    "- PIL (Python Imaging Library): Library to manipulate image input data\n",
    "- Numpy: To manipulate vector representations of image data\n",
    "- Tensorflow: To implement machine learning via resnet architecture\n",
    "- Keras: It acts as an interface to interact with tensorflow"
   ]
  },
  {
   "cell_type": "code",
   "execution_count": 2,
   "id": "778e0cb1",
   "metadata": {},
   "outputs": [],
   "source": [
    "import os\n",
    "\n",
    "from PIL import Image\n",
    "import numpy as np\n",
    "import tensorflow as tf\n",
    "import matplotlib.pyplot as plt\n",
    "import keras\n",
    "from keras.models import Model\n",
    "from keras.layers import Dense, Dropout, Activation, Flatten, Input, BatchNormalization\n",
    "from keras.layers import Conv2D, MaxPooling2D\n",
    "from keras import regularizers"
   ]
  },
  {
   "cell_type": "code",
   "execution_count": 3,
   "id": "33873f75",
   "metadata": {},
   "outputs": [
    {
     "name": "stdout",
     "output_type": "stream",
     "text": [
      "Found 10576 train samples: 4876 positive, 5700 negative\n",
      "Found 1576 test samples: 353 positive, 1223 negative\n",
      "Class weight: {0: 0.927719298245614, 1: 1.0844954881050042}\n",
      "------ Loading Positive Train Set ------\n",
      "1000 of 4876\n",
      "2000 of 4876\n",
      "3000 of 4876\n",
      "4000 of 4876\n",
      "4876 of 4876\n",
      "-------- Data Load Completed -----------\n",
      "------ Loading Negative Train Set ------\n",
      "1000 of 5700\n",
      "2000 of 5700\n",
      "3000 of 5700\n",
      "4000 of 5700\n",
      "5000 of 5700\n",
      "5700 of 5700\n",
      "-------- Data Load Completed -----------\n",
      "------ Loading Positive Test Set ------\n",
      "353 of 353\n",
      "-------- Data Load Completed -----------\n",
      "------ Loading Negative Test Set ------\n",
      "1000 of 1223\n",
      "1223 of 1223\n",
      "-------- Data Load Completed -----------\n"
     ]
    }
   ],
   "source": [
    "train_positive_dir = r\"C:\\Users\\risha\\OneDrive\\Documents\\me\\CORAL\\train_data\\Collision\" \n",
    "train_negative_dir = r\"C:\\Users\\risha\\OneDrive\\Documents\\me\\CORAL\\train_data\\Not_Collision\"\n",
    "\n",
    "test_positive_dir = r\"C:\\Users\\risha\\OneDrive\\Documents\\me\\CORAL\\test_data\\Collision\"\n",
    "test_negative_dir = r\"C:\\Users\\risha\\OneDrive\\Documents\\me\\CORAL\\test_data\\Not_Collision\"\n",
    "\n",
    "train_positive_count = len(os.listdir(train_positive_dir))\n",
    "train_negative_count = len(os.listdir(train_negative_dir))\n",
    "test_positive_count = len(os.listdir(test_positive_dir))\n",
    "test_negative_count = len(os.listdir(test_negative_dir))\n",
    "\n",
    "train_count = train_positive_count + train_negative_count\n",
    "test_count = test_positive_count + test_negative_count\n",
    "\n",
    "\n",
    "# calculate class weights\n",
    "\n",
    "posivite_weight = train_count / train_positive_count / 2.0\n",
    "negative_weight = train_count / train_negative_count / 2.0\n",
    "\n",
    "class_weight = {0: negative_weight, 1: posivite_weight}\n",
    "\n",
    "print(\"Found\", train_count, \"train samples:\", train_positive_count, \"positive,\", train_negative_count, \"negative\")\n",
    "print(\"Found\", test_count, \"test samples:\", test_positive_count, \"positive,\", test_negative_count, \"negative\")\n",
    "print(\"Class weight:\", class_weight)\n",
    "\n",
    "\n",
    "# load train/test data\n",
    "\n",
    "x_train = []\n",
    "y_train = []\n",
    "w_train = []\n",
    "x_test = []\n",
    "y_test = []\n",
    "\n",
    "\n",
    "\n",
    "\n",
    "def load_data(directory, train_flag, positive_flag):\n",
    "    temp = 0\n",
    "    if train_flag == 1 and positive_flag == 1:\n",
    "        print(\"------ Loading Positive Train Set ------\") \n",
    "        count = train_positive_count\n",
    "    elif train_flag == 1 and positive_flag == 0:\n",
    "        print(\"------ Loading Negative Train Set ------\") \n",
    "        count = train_negative_count\n",
    "    elif train_flag == 0 and positive_flag == 1:\n",
    "        print(\"------ Loading Positive Test Set ------\") \n",
    "        count = test_positive_count\n",
    "    else:\n",
    "        print(\"------ Loading Negative Test Set ------\") \n",
    "        count = test_negative_count\n",
    "        \n",
    "    if positive_flag == 1:\n",
    "        weight = posivite_weight\n",
    "        label = 1\n",
    "    else:\n",
    "        weight = negative_weight\n",
    "        label = 0\n",
    "        \n",
    "   \n",
    "    for file in os.listdir(directory):\n",
    "        filename = os.path.join(directory, file)\n",
    "        #Converting RGB images to greyscale and cropping image size to 200X200\n",
    "        image = Image.open(filename).convert(\"L\").resize((200, 200))\n",
    "        image = np.asarray(image)\n",
    "        if train_flag == 1:\n",
    "            x_train.append(image)\n",
    "            y_train.append(label)\n",
    "            w_train.append(weight)\n",
    "        else:\n",
    "            x_test.append(image)\n",
    "            y_test.append(label)\n",
    "        temp += 1\n",
    "        if temp % 1000 == 0 or temp == count:\n",
    "            print(temp, \"of\", count)\n",
    "    print(\"-------- Data Load Completed -----------\")\n",
    "            \n",
    "load_data(train_positive_dir,1, 1)\n",
    "load_data(train_negative_dir,1, 0)\n",
    "load_data(test_positive_dir,0,1)\n",
    "load_data(test_negative_dir,0,0)\n",
    "        \n",
    "\n",
    "x_train = np.array(x_train, dtype=np.float32)[..., tf.newaxis] / 255.0\n",
    "y_train = np.array(y_train, dtype=np.float32)\n",
    "w_train = np.array(w_train, dtype=np.float32)\n",
    "x_test = np.array(x_test, dtype=np.float32)[..., tf.newaxis] / 255.0\n",
    "y_test = np.array(y_test, dtype=np.float32)"
   ]
  },
  {
   "cell_type": "code",
   "execution_count": 22,
   "id": "322fbce2",
   "metadata": {},
   "outputs": [
    {
     "name": "stdout",
     "output_type": "stream",
     "text": [
      "10576\n",
      "[[[0.99607843]\n",
      "  [0.99607843]\n",
      "  [0.99607843]\n",
      "  ...\n",
      "  [0.21568628]\n",
      "  [0.21568628]\n",
      "  [0.20784314]]\n",
      "\n",
      " [[0.99607843]\n",
      "  [0.99607843]\n",
      "  [0.99607843]\n",
      "  ...\n",
      "  [0.21176471]\n",
      "  [0.20784314]\n",
      "  [0.20784314]]\n",
      "\n",
      " [[1.        ]\n",
      "  [1.        ]\n",
      "  [1.        ]\n",
      "  ...\n",
      "  [0.20784314]\n",
      "  [0.20784314]\n",
      "  [0.20392157]]\n",
      "\n",
      " ...\n",
      "\n",
      " [[0.54901963]\n",
      "  [0.54901963]\n",
      "  [0.54509807]\n",
      "  ...\n",
      "  [0.20392157]\n",
      "  [0.20392157]\n",
      "  [0.2       ]]\n",
      "\n",
      " [[0.5372549 ]\n",
      "  [0.5372549 ]\n",
      "  [0.5411765 ]\n",
      "  ...\n",
      "  [0.22352941]\n",
      "  [0.20392157]\n",
      "  [0.20784314]]\n",
      "\n",
      " [[0.5372549 ]\n",
      "  [0.5254902 ]\n",
      "  [0.52156866]\n",
      "  ...\n",
      "  [0.32156864]\n",
      "  [0.25490198]\n",
      "  [0.21960784]]]\n"
     ]
    }
   ],
   "source": [
    "print(len(x_train))\n",
    "print(x_train[0])"
   ]
  },
  {
   "cell_type": "code",
   "execution_count": 4,
   "id": "97570d67",
   "metadata": {},
   "outputs": [
    {
     "name": "stdout",
     "output_type": "stream",
     "text": [
      "(10576, 200, 200, 1) 1.0 0.0\n",
      "(10576,) 1.0 0.0\n",
      "(10576,) 1.0844955 0.9277193\n",
      "(1576, 200, 200, 1) 1.0 0.0\n",
      "(1576,) 1.0 0.0\n"
     ]
    }
   ],
   "source": [
    "print(x_train.shape, np.max(x_train), np.min(x_train))\n",
    "print(y_train.shape, np.max(y_train), np.min(y_train))\n",
    "print(w_train.shape, np.max(w_train), np.min(w_train))\n",
    "print(x_test.shape, np.max(x_test), np.min(x_test))\n",
    "print(y_test.shape, np.max(y_test), np.min(y_test))"
   ]
  },
  {
   "cell_type": "code",
   "execution_count": 5,
   "id": "d799e85d",
   "metadata": {},
   "outputs": [],
   "source": [
    "def resnet8(img_width, img_height, img_channels, output_dim):\n",
    "    #Let's define input\n",
    "    img_input = Input(shape= (img_height, img_width, img_channels))\n",
    "    #print(img_input)\n",
    "    \n",
    "    l1 = Conv2D(32, (5,5), strides = [2,2], padding = \"same\")(img_input)\n",
    "    l1 = MaxPooling2D((3,3), strides = [2,2])(l1)\n",
    "    \n",
    "    #First residual block\n",
    "    r1 = BatchNormalization()(l1)\n",
    "    r1 = Activation('relu')(r1)\n",
    "    r1 = Conv2D(32, (3,3), strides = [2,2], padding = \"same\", kernel_initializer = 'he_normal', \n",
    "                kernel_regularizer = regularizers.l2(1e-4))(r1)\n",
    "    \n",
    "    r1 = BatchNormalization()(r1)\n",
    "    r1 = Activation('relu')(r1)\n",
    "    r1 = Conv2D(32, (3,3), strides = [2,2], padding = \"same\", kernel_initializer = 'he_normal',\n",
    "               kernel_regularizer = regularizers.l2(1e-4))(r1)\n",
    "    \n",
    "    #passing input through a 1X1 convolution layer with stride 2 to make the shape equal to residual bloack\n",
    "    l1 = Conv2D(32, (1,1), strides = [2,2], padding = \"same\")(l1)\n",
    "    sk_conn1 = Conv2D(32, (1,1), strides = [2,2], padding = \"same\")(l1)\n",
    "    \n",
    "    #doing F(x)+x i.e. adding skip connection for residual block 1\n",
    "    print(sk_conn1.shape)\n",
    "    print(r1.shape)\n",
    "    x1 = tf.keras.layers.Add()([sk_conn1, r1])\n",
    "    \n",
    "    #Seconnd residual block    \n",
    "    r2 = BatchNormalization()(x1)\n",
    "    r2 = Activation('relu')(r2)\n",
    "    r2 = Conv2D(64, (3,3), strides = [2,2], padding = \"same\", kernel_initializer = \"he_normal\",\n",
    "               kernel_regularizer = regularizers.l2(1e-4))(r2)\n",
    "    \n",
    "    r2 = BatchNormalization()(r2)\n",
    "    r2 = Activation('relu')(r2)\n",
    "    r2 = Conv2D(64, (3,3), strides = [2,2], padding = \"same\", kernel_initializer = \"he_normal\",\n",
    "               kernel_regularizer = regularizers.l2(1e-4))(r2)\n",
    "    \n",
    "    #passing input through a 1X1 convolution layer with stride 2 to make the shape equal to residual bloack\n",
    "    sk_conn1 = Conv2D(32, (1,1), strides = [2,2], padding = \"same\")(sk_conn1)\n",
    "    sk_conn2 = Conv2D(64, (1,1), strides = [2,2], padding = \"same\")(sk_conn1)\n",
    "    \n",
    "    #doing F(x)+x i.e. adding skip connection for residual block 2\n",
    "    x2 = tf.keras.layers.Add()([sk_conn2, r2])\n",
    "    \n",
    "    #Third residual block\n",
    "    r3 = BatchNormalization()(x2)\n",
    "    r3 = Activation('relu')(r3)\n",
    "    r3 = Conv2D(128, (3,3), strides = [2,2], padding = \"same\", kernel_initializer = \"he_normal\",\n",
    "               kernel_regularizer = regularizers.l2(1e-4))(r3)\n",
    "    \n",
    "    r3 = BatchNormalization()(r3)\n",
    "    r3 = Activation('relu')(r3)\n",
    "    r3 = Conv2D(128, (3,3), strides = [2,2], padding = \"same\", kernel_initializer = \"he_normal\",\n",
    "               kernel_regularizer = regularizers.l2(1e-4))(r3)\n",
    "    \n",
    "    sk_conn3 = Conv2D(128, (1,1), strides = [2,2], padding = \"same\")(sk_conn2)\n",
    "    \n",
    "    #doing F(x)+x i.e. adding skip connection for residual block 3\n",
    "    x3 = tf.keras.layers.Add()([sk_conn3, r3])\n",
    "    \n",
    "    x = Flatten()(x3)\n",
    "    x = Activation('relu')(x)\n",
    "    x = Dropout(0.5)(x)\n",
    "    \n",
    "    coll = Dense(output_dim)(x)\n",
    "    coll = Activation('sigmoid')(coll)\n",
    "    \n",
    "    model = Model(inputs = [img_input], outputs = [coll])\n",
    "    \n",
    "    return model\n",
    "    \n",
    "    \n",
    "    \n",
    "    "
   ]
  },
  {
   "cell_type": "code",
   "execution_count": 6,
   "id": "fdb6da1c",
   "metadata": {},
   "outputs": [
    {
     "name": "stdout",
     "output_type": "stream",
     "text": [
      "(None, 13, 13, 32)\n",
      "(None, 13, 13, 32)\n",
      "Model: \"model\"\n",
      "__________________________________________________________________________________________________\n",
      " Layer (type)                   Output Shape         Param #     Connected to                     \n",
      "==================================================================================================\n",
      " input_1 (InputLayer)           [(None, 200, 200, 1  0           []                               \n",
      "                                )]                                                                \n",
      "                                                                                                  \n",
      " conv2d (Conv2D)                (None, 100, 100, 32  832         ['input_1[0][0]']                \n",
      "                                )                                                                 \n",
      "                                                                                                  \n",
      " max_pooling2d (MaxPooling2D)   (None, 49, 49, 32)   0           ['conv2d[0][0]']                 \n",
      "                                                                                                  \n",
      " batch_normalization (BatchNorm  (None, 49, 49, 32)  128         ['max_pooling2d[0][0]']          \n",
      " alization)                                                                                       \n",
      "                                                                                                  \n",
      " activation (Activation)        (None, 49, 49, 32)   0           ['batch_normalization[0][0]']    \n",
      "                                                                                                  \n",
      " conv2d_1 (Conv2D)              (None, 25, 25, 32)   9248        ['activation[0][0]']             \n",
      "                                                                                                  \n",
      " batch_normalization_1 (BatchNo  (None, 25, 25, 32)  128         ['conv2d_1[0][0]']               \n",
      " rmalization)                                                                                     \n",
      "                                                                                                  \n",
      " conv2d_3 (Conv2D)              (None, 25, 25, 32)   1056        ['max_pooling2d[0][0]']          \n",
      "                                                                                                  \n",
      " activation_1 (Activation)      (None, 25, 25, 32)   0           ['batch_normalization_1[0][0]']  \n",
      "                                                                                                  \n",
      " conv2d_4 (Conv2D)              (None, 13, 13, 32)   1056        ['conv2d_3[0][0]']               \n",
      "                                                                                                  \n",
      " conv2d_2 (Conv2D)              (None, 13, 13, 32)   9248        ['activation_1[0][0]']           \n",
      "                                                                                                  \n",
      " add (Add)                      (None, 13, 13, 32)   0           ['conv2d_4[0][0]',               \n",
      "                                                                  'conv2d_2[0][0]']               \n",
      "                                                                                                  \n",
      " batch_normalization_2 (BatchNo  (None, 13, 13, 32)  128         ['add[0][0]']                    \n",
      " rmalization)                                                                                     \n",
      "                                                                                                  \n",
      " activation_2 (Activation)      (None, 13, 13, 32)   0           ['batch_normalization_2[0][0]']  \n",
      "                                                                                                  \n",
      " conv2d_5 (Conv2D)              (None, 7, 7, 64)     18496       ['activation_2[0][0]']           \n",
      "                                                                                                  \n",
      " batch_normalization_3 (BatchNo  (None, 7, 7, 64)    256         ['conv2d_5[0][0]']               \n",
      " rmalization)                                                                                     \n",
      "                                                                                                  \n",
      " conv2d_7 (Conv2D)              (None, 7, 7, 32)     1056        ['conv2d_4[0][0]']               \n",
      "                                                                                                  \n",
      " activation_3 (Activation)      (None, 7, 7, 64)     0           ['batch_normalization_3[0][0]']  \n",
      "                                                                                                  \n",
      " conv2d_8 (Conv2D)              (None, 4, 4, 64)     2112        ['conv2d_7[0][0]']               \n",
      "                                                                                                  \n",
      " conv2d_6 (Conv2D)              (None, 4, 4, 64)     36928       ['activation_3[0][0]']           \n",
      "                                                                                                  \n",
      " add_1 (Add)                    (None, 4, 4, 64)     0           ['conv2d_8[0][0]',               \n",
      "                                                                  'conv2d_6[0][0]']               \n",
      "                                                                                                  \n",
      " batch_normalization_4 (BatchNo  (None, 4, 4, 64)    256         ['add_1[0][0]']                  \n",
      " rmalization)                                                                                     \n",
      "                                                                                                  \n",
      " activation_4 (Activation)      (None, 4, 4, 64)     0           ['batch_normalization_4[0][0]']  \n",
      "                                                                                                  \n",
      " conv2d_9 (Conv2D)              (None, 2, 2, 128)    73856       ['activation_4[0][0]']           \n",
      "                                                                                                  \n",
      " batch_normalization_5 (BatchNo  (None, 2, 2, 128)   512         ['conv2d_9[0][0]']               \n",
      " rmalization)                                                                                     \n",
      "                                                                                                  \n",
      " activation_5 (Activation)      (None, 2, 2, 128)    0           ['batch_normalization_5[0][0]']  \n",
      "                                                                                                  \n",
      " conv2d_11 (Conv2D)             (None, 2, 2, 128)    8320        ['conv2d_8[0][0]']               \n",
      "                                                                                                  \n",
      " conv2d_10 (Conv2D)             (None, 1, 1, 128)    147584      ['activation_5[0][0]']           \n",
      "                                                                                                  \n",
      " add_2 (Add)                    (None, 2, 2, 128)    0           ['conv2d_11[0][0]',              \n",
      "                                                                  'conv2d_10[0][0]']              \n",
      "                                                                                                  \n",
      " flatten (Flatten)              (None, 512)          0           ['add_2[0][0]']                  \n",
      "                                                                                                  \n",
      " activation_6 (Activation)      (None, 512)          0           ['flatten[0][0]']                \n",
      "                                                                                                  \n",
      " dropout (Dropout)              (None, 512)          0           ['activation_6[0][0]']           \n",
      "                                                                                                  \n",
      " dense (Dense)                  (None, 1)            513         ['dropout[0][0]']                \n",
      "                                                                                                  \n",
      " activation_7 (Activation)      (None, 1)            0           ['dense[0][0]']                  \n",
      "                                                                                                  \n",
      "==================================================================================================\n"
     ]
    },
    {
     "name": "stdout",
     "output_type": "stream",
     "text": [
      "Total params: 311,713\n",
      "Trainable params: 311,009\n",
      "Non-trainable params: 704\n",
      "__________________________________________________________________________________________________\n",
      "None\n"
     ]
    },
    {
     "name": "stderr",
     "output_type": "stream",
     "text": [
      "WARNING:absl:Found untraced functions such as _jit_compiled_convolution_op, _jit_compiled_convolution_op, _jit_compiled_convolution_op, _jit_compiled_convolution_op, _jit_compiled_convolution_op while saving (showing 5 of 12). These functions will not be directly callable after loading.\n"
     ]
    },
    {
     "name": "stdout",
     "output_type": "stream",
     "text": [
      "INFO:tensorflow:Assets written to: C:\\Users\\risha\\Documents\\Dronet_model\\assets\n"
     ]
    },
    {
     "name": "stderr",
     "output_type": "stream",
     "text": [
      "INFO:tensorflow:Assets written to: C:\\Users\\risha\\Documents\\Dronet_model\\assets\n"
     ]
    },
    {
     "name": "stdout",
     "output_type": "stream",
     "text": [
      "Epoch 1/20\n",
      "331/331 [==============================] - 44s 129ms/step - loss: 0.1956 - accuracy: 0.9535\n",
      "Epoch 2/20\n",
      "331/331 [==============================] - 46s 138ms/step - loss: 0.0995 - accuracy: 0.9921\n",
      "Epoch 3/20\n",
      "331/331 [==============================] - 46s 139ms/step - loss: 0.0809 - accuracy: 0.9974\n",
      "Epoch 4/20\n",
      "331/331 [==============================] - 46s 140ms/step - loss: 0.0869 - accuracy: 0.9946\n",
      "Epoch 5/20\n",
      "331/331 [==============================] - 46s 138ms/step - loss: 0.0795 - accuracy: 0.9970\n",
      "Epoch 6/20\n",
      "331/331 [==============================] - 46s 138ms/step - loss: 0.0680 - accuracy: 0.9988\n",
      "Epoch 7/20\n",
      "331/331 [==============================] - 48s 144ms/step - loss: 0.0776 - accuracy: 0.9953\n",
      "Epoch 8/20\n",
      "331/331 [==============================] - 47s 141ms/step - loss: 0.0658 - accuracy: 0.9982\n",
      "Epoch 9/20\n",
      "331/331 [==============================] - 49s 149ms/step - loss: 0.0600 - accuracy: 0.9991\n",
      "Epoch 10/20\n",
      "331/331 [==============================] - 48s 145ms/step - loss: 0.0648 - accuracy: 0.9960\n",
      "Epoch 11/20\n",
      "331/331 [==============================] - 54s 162ms/step - loss: 0.0613 - accuracy: 0.9974\n",
      "Epoch 12/20\n",
      "331/331 [==============================] - 47s 143ms/step - loss: 0.0593 - accuracy: 0.9981\n",
      "Epoch 13/20\n",
      "331/331 [==============================] - 46s 138ms/step - loss: 0.0593 - accuracy: 0.9973\n",
      "Epoch 14/20\n",
      "331/331 [==============================] - 47s 142ms/step - loss: 0.0523 - accuracy: 0.9988\n",
      "Epoch 15/20\n",
      "331/331 [==============================] - 46s 139ms/step - loss: 0.0455 - accuracy: 0.9996\n",
      "Epoch 16/20\n",
      "331/331 [==============================] - 48s 144ms/step - loss: 0.0400 - accuracy: 0.9998\n",
      "Epoch 17/20\n",
      "331/331 [==============================] - 49s 148ms/step - loss: 0.0347 - accuracy: 0.9998\n",
      "Epoch 18/20\n",
      "331/331 [==============================] - 47s 141ms/step - loss: 0.0690 - accuracy: 0.9909\n",
      "Epoch 19/20\n",
      "331/331 [==============================] - 46s 140ms/step - loss: 0.0472 - accuracy: 0.9991\n",
      "Epoch 20/20\n",
      "331/331 [==============================] - 47s 142ms/step - loss: 0.0441 - accuracy: 0.9989\n"
     ]
    }
   ],
   "source": [
    "model = resnet8(200, 200, 1, 1)\n",
    "print(model.summary())\n",
    "optimizer = tf.keras.optimizers.Adam(decay=1e-5)\n",
    "model.compile(optimizer= optimizer, loss='binary_crossentropy', metrics=['accuracy'])\n",
    "model.save(r'C:\\Users\\risha\\Documents\\Dronet_model')\n",
    "history = model.fit(x_train, y_train, epochs = 20, batch_size = 32)\n",
    "\n",
    "\n",
    "\n"
   ]
  },
  {
   "cell_type": "code",
   "execution_count": 7,
   "id": "2421eb5a",
   "metadata": {},
   "outputs": [
    {
     "name": "stdout",
     "output_type": "stream",
     "text": [
      "<keras.callbacks.History object at 0x000001CCB8711760>\n"
     ]
    },
    {
     "data": {
      "image/png": "[encoded data removed]",
      "text/plain": [
       "<Figure size 432x288 with 1 Axes>"
      ]
     },
     "metadata": {
      "needs_background": "light"
     },
     "output_type": "display_data"
    },
    {
     "data": {
      "image/png": "[encoded data removed]",
      "text/plain": [
       "<Figure size 432x288 with 1 Axes>"
      ]
     },
     "metadata": {
      "needs_background": "light"
     },
     "output_type": "display_data"
    }
   ],
   "source": [
    "# summarize history for accuracy\n",
    "print(history)\n",
    "plt.plot(history.history['accuracy'])\n",
    "plt.title('model accuracy')\n",
    "plt.ylabel('accuracy')\n",
    "plt.xlabel('epoch')\n",
    "plt.legend(['Train'], loc='upper left')\n",
    "plt.show()\n",
    "# summarize history for loss\n",
    "plt.plot(history.history['loss'])\n",
    "plt.title('model loss')\n",
    "plt.ylabel('loss')\n",
    "plt.xlabel('epoch')\n",
    "plt.legend(['Train'], loc='upper left')\n",
    "plt.show()"
   ]
  },
  {
   "cell_type": "markdown",
   "id": "9468316e",
   "metadata": {},
   "source": [
    "As evident from the above graphs, the model is successfully trained to minimize loss over the training data. We see some instances where accuracy sees a dip and then increases, that might be due to overfitting of training data by the model.\n",
    "\n",
    "Let's try our trained model on the test dataset."
   ]
  },
  {
   "cell_type": "code",
   "execution_count": 8,
   "id": "31eee820",
   "metadata": {},
   "outputs": [
    {
     "name": "stdout",
     "output_type": "stream",
     "text": [
      "50/50 [==============================] - 2s 36ms/step - loss: 1.4412 - accuracy: 0.8350\n"
     ]
    },
    {
     "data": {
      "text/plain": [
       "[1.4411637783050537, 0.8350253701210022]"
      ]
     },
     "execution_count": 8,
     "metadata": {},
     "output_type": "execute_result"
    }
   ],
   "source": [
    "model.evaluate(x_test, y_test)"
   ]
  }
 ],
 "metadata": {
  "kernelspec": {
   "display_name": "Python 3 (ipykernel)",
   "language": "python",
   "name": "python3"
  },
  "language_info": {
   "codemirror_mode": {
    "name": "ipython",
    "version": 3
   },
   "file_extension": ".py",
   "mimetype": "text/x-python",
   "name": "python",
   "nbconvert_exporter": "python",
   "pygments_lexer": "ipython3",
   "version": "3.9.12"
  }
 },
 "nbformat": 4,
 "nbformat_minor": 5
}
